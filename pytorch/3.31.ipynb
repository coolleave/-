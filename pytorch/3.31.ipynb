{
 "cells": [
  {
   "cell_type": "code",
   "execution_count": 4,
   "id": "fd02d529-ab4d-42cc-8725-7e2d1dbb92a6",
   "metadata": {},
   "outputs": [],
   "source": [
    "import numpy as np\n",
    "import pandas as pd\n",
    "import matplotlib.pyplot as plt"
   ]
  },
  {
   "cell_type": "markdown",
   "id": "b72d8825-7feb-44f9-a013-4deca9ad702f",
   "metadata": {},
   "source": [
    "创建一个四维数组，并且求最后两维的和"
   ]
  },
  {
   "cell_type": "code",
   "execution_count": 5,
   "id": "4c8d1d5a-f86a-44c0-9e2f-fc382a25b2b5",
   "metadata": {},
   "outputs": [],
   "source": [
    "arr1 = np.random.randint(0,10,size=(2,3,4,5))  "
   ]
  },
  {
   "cell_type": "code",
   "execution_count": 12,
   "id": "4dd1bf5c-efb6-41cf-b948-ca4c85b1653d",
   "metadata": {},
   "outputs": [
    {
     "data": {
      "text/plain": [
       "array([[[[6, 7, 8, 3, 2],\n",
       "         [5, 0, 7, 9, 5],\n",
       "         [4, 3, 8, 3, 0],\n",
       "         [3, 0, 4, 8, 9]],\n",
       "\n",
       "        [[0, 5, 1, 5, 2],\n",
       "         [9, 1, 7, 3, 9],\n",
       "         [9, 9, 5, 5, 6],\n",
       "         [2, 6, 9, 6, 2]],\n",
       "\n",
       "        [[1, 2, 2, 3, 9],\n",
       "         [5, 8, 1, 5, 0],\n",
       "         [0, 1, 7, 9, 7],\n",
       "         [1, 9, 9, 5, 9]]],\n",
       "\n",
       "\n",
       "       [[[5, 3, 6, 5, 8],\n",
       "         [9, 7, 1, 9, 7],\n",
       "         [5, 2, 2, 8, 9],\n",
       "         [1, 8, 3, 2, 4]],\n",
       "\n",
       "        [[9, 5, 2, 4, 5],\n",
       "         [5, 3, 8, 5, 4],\n",
       "         [1, 5, 9, 2, 9],\n",
       "         [2, 5, 6, 5, 0]],\n",
       "\n",
       "        [[5, 0, 5, 4, 4],\n",
       "         [2, 5, 9, 6, 1],\n",
       "         [5, 3, 7, 4, 5],\n",
       "         [6, 6, 9, 3, 0]]]])"
      ]
     },
     "execution_count": 12,
     "metadata": {},
     "output_type": "execute_result"
    }
   ],
   "source": [
    "arr1\n"
   ]
  },
  {
   "cell_type": "code",
   "execution_count": 11,
   "id": "44c6a8f6-77d8-46bf-8d7d-9ce9d8f1b7c2",
   "metadata": {},
   "outputs": [
    {
     "data": {
      "text/plain": [
       "array([[ 94, 101,  93],\n",
       "       [104,  94,  89]])"
      ]
     },
     "execution_count": 11,
     "metadata": {},
     "output_type": "execute_result"
    }
   ],
   "source": [
    "sum = np.sum(arr1,axis=(2,3))\n",
    "sum"
   ]
  },
  {
   "cell_type": "code",
   "execution_count": 20,
   "id": "b31a8f13-0ba1-4128-bba2-b4fe43ff77e4",
   "metadata": {},
   "outputs": [
    {
     "data": {
      "text/plain": [
       "94"
      ]
     },
     "execution_count": 20,
     "metadata": {},
     "output_type": "execute_result"
    }
   ],
   "source": [
    "arr2 = np.array([[6, 7, 8, 3, 2],\n",
    "         [5, 0, 7, 9, 5],\n",
    "         [4, 3, 8, 3, 0],\n",
    "         [3, 0, 4, 8, 9]])\n",
    "np.sum(arr2)"
   ]
  },
  {
   "cell_type": "markdown",
   "id": "cf1a6b2b-5ba9-4a29-a277-dd0199aa4ba8",
   "metadata": {},
   "source": [
    "给定一个数组[1,2,3,4] ,在每一个元素后边加上三个0"
   ]
  },
  {
   "cell_type": "code",
   "execution_count": 21,
   "id": "cd9de08a-d217-4709-889f-82d7f10dde0f",
   "metadata": {},
   "outputs": [
    {
     "data": {
      "text/plain": [
       "array([1, 2, 3, 4])"
      ]
     },
     "execution_count": 21,
     "metadata": {},
     "output_type": "execute_result"
    }
   ],
   "source": [
    "arr3 = np.arange(1,5)\n",
    "arr3\n"
   ]
  },
  {
   "cell_type": "code",
   "execution_count": 24,
   "id": "1d142869-842e-4782-bc1d-1a60b1fe00f3",
   "metadata": {},
   "outputs": [
    {
     "data": {
      "text/plain": [
       "array([0, 0, 0, 0, 0, 0, 0, 0, 0, 0, 0, 0, 0, 0, 0, 0], dtype=int16)"
      ]
     },
     "execution_count": 24,
     "metadata": {},
     "output_type": "execute_result"
    }
   ],
   "source": [
    "arr4 = np.zeros(16,dtype=np.int16)\n",
    "arr4"
   ]
  },
  {
   "cell_type": "code",
   "execution_count": 27,
   "id": "bf15fa28-d8be-41ca-a6c3-46160e85620c",
   "metadata": {},
   "outputs": [
    {
     "data": {
      "text/plain": [
       "array([1, 2, 3, 4], dtype=int16)"
      ]
     },
     "execution_count": 27,
     "metadata": {},
     "output_type": "execute_result"
    }
   ],
   "source": [
    "arr4[::4] = arr3\n",
    "arr4"
   ]
  },
  {
   "cell_type": "code",
   "execution_count": null,
   "id": "c467bac3-55c3-40ec-ab27-73495492dc73",
   "metadata": {},
   "outputs": [],
   "source": []
  },
  {
   "cell_type": "code",
   "execution_count": null,
   "id": "45ef7d82-46f7-4adc-b835-4ff5935acce8",
   "metadata": {},
   "outputs": [],
   "source": []
  }
 ],
 "metadata": {
  "kernelspec": {
   "display_name": "Python 3 (ipykernel)",
   "language": "python",
   "name": "python3"
  },
  "language_info": {
   "codemirror_mode": {
    "name": "ipython",
    "version": 3
   },
   "file_extension": ".py",
   "mimetype": "text/x-python",
   "name": "python",
   "nbconvert_exporter": "python",
   "pygments_lexer": "ipython3",
   "version": "3.11.7"
  }
 },
 "nbformat": 4,
 "nbformat_minor": 5
}
