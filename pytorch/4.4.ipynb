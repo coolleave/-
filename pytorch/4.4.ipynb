{
 "cells": [
  {
   "cell_type": "code",
   "execution_count": 5,
   "id": "b9f92b94-9396-4e23-971f-989a50c92362",
   "metadata": {},
   "outputs": [],
   "source": [
    "import pandas as pd\n",
    "import numpy as np"
   ]
  },
  {
   "cell_type": "code",
   "execution_count": 8,
   "id": "0db1c786-9d39-44bd-a297-2551503b16d3",
   "metadata": {},
   "outputs": [
    {
     "data": {
      "text/plain": [
       "'\\n1、serise\\n2、dataframe\\n'"
      ]
     },
     "execution_count": 8,
     "metadata": {},
     "output_type": "execute_result"
    }
   ],
   "source": [
    "# 两种数据结构 \n",
    "\"\"\"\n",
    "1、serise\n",
    "2、dataframe\n",
    "\"\"\""
   ]
  },
  {
   "cell_type": "code",
   "execution_count": 17,
   "id": "16a89679-261c-4504-8dc9-8a35cb0c24b9",
   "metadata": {},
   "outputs": [
    {
     "data": {
      "text/plain": [
       "'\\n1.列表\\n2.列表加索引列表\\n3.python字典\\n'"
      ]
     },
     "execution_count": 17,
     "metadata": {},
     "output_type": "execute_result"
    }
   ],
   "source": [
    "# 创建serise的三种方法\n",
    "\"\"\"\n",
    "1.列表\n",
    "2.列表加索引列表\n",
    "3.python字典\n",
    "\"\"\""
   ]
  },
  {
   "cell_type": "code",
   "execution_count": 14,
   "id": "33eb5e66-eb0e-4207-ae03-e01d82f5e73e",
   "metadata": {},
   "outputs": [
    {
     "data": {
      "text/plain": [
       "0    c\n",
       "1    p\n",
       "2    y\n",
       "3    3\n",
       "4    3\n",
       "5    4\n",
       "dtype: object"
      ]
     },
     "execution_count": 14,
     "metadata": {},
     "output_type": "execute_result"
    }
   ],
   "source": [
    "s1  = pd.Series([\"c\",\"p\",\"y\",3,3,4])  # 直接上列表\n",
    "s1"
   ]
  },
  {
   "cell_type": "code",
   "execution_count": 33,
   "id": "03d50f40-f73e-48f4-9cb7-cffad8db32a2",
   "metadata": {},
   "outputs": [
    {
     "data": {
      "text/plain": [
       "b    dataframe\n",
       "b      jupyter\n",
       "dtype: object"
      ]
     },
     "execution_count": 33,
     "metadata": {},
     "output_type": "execute_result"
    }
   ],
   "source": [
    "s2 = pd.Series([\"serise\",\"dataframe\", \"jupyter\"], index=[\"a\",\"b\",\"b\"])  # 列表加列表索引\n",
    "s2['b']"
   ]
  },
  {
   "cell_type": "code",
   "execution_count": 35,
   "id": "683ea62f-398d-4903-83f5-8c9772921557",
   "metadata": {},
   "outputs": [
    {
     "data": {
      "text/plain": [
       "'cpy'"
      ]
     },
     "execution_count": 35,
     "metadata": {},
     "output_type": "execute_result"
    }
   ],
   "source": [
    "dic = {\"name\":\"cpy\", \"age\": 19, \"gender\":\"man\"}\n",
    "s3 = pd.Series(dic)  # 直接上python字典\n",
    "s3[\"name\"] \n",
    "\n"
   ]
  },
  {
   "cell_type": "code",
   "execution_count": 63,
   "id": "8a9fb89a-8742-4907-b00c-8ef86c227ac2",
   "metadata": {},
   "outputs": [],
   "source": [
    "df = pd.read_csv('seattle-weather.csv')\n",
    "df.head()\n",
    "df.loc[:,\"temp_max\"] = df[\"temp_max\"]\n",
    "\n"
   ]
  },
  {
   "cell_type": "code",
   "execution_count": 82,
   "id": "4b6f03f0-4def-4359-9d04-eb4ec5f881a2",
   "metadata": {},
   "outputs": [
    {
     "data": {
      "text/html": [
       "<div>\n",
       "<style scoped>\n",
       "    .dataframe tbody tr th:only-of-type {\n",
       "        vertical-align: middle;\n",
       "    }\n",
       "\n",
       "    .dataframe tbody tr th {\n",
       "        vertical-align: top;\n",
       "    }\n",
       "\n",
       "    .dataframe thead th {\n",
       "        text-align: right;\n",
       "    }\n",
       "</style>\n",
       "<table border=\"1\" class=\"dataframe\">\n",
       "  <thead>\n",
       "    <tr style=\"text-align: right;\">\n",
       "      <th></th>\n",
       "      <th>temp_max</th>\n",
       "      <th>temp_min</th>\n",
       "      <th>wind</th>\n",
       "    </tr>\n",
       "  </thead>\n",
       "  <tbody>\n",
       "    <tr>\n",
       "      <th>1</th>\n",
       "      <td>10.6</td>\n",
       "      <td>2.8</td>\n",
       "      <td>4.5</td>\n",
       "    </tr>\n",
       "    <tr>\n",
       "      <th>2</th>\n",
       "      <td>11.7</td>\n",
       "      <td>7.2</td>\n",
       "      <td>2.3</td>\n",
       "    </tr>\n",
       "    <tr>\n",
       "      <th>3</th>\n",
       "      <td>12.2</td>\n",
       "      <td>5.6</td>\n",
       "      <td>4.7</td>\n",
       "    </tr>\n",
       "  </tbody>\n",
       "</table>\n",
       "</div>"
      ],
      "text/plain": [
       "   temp_max  temp_min  wind\n",
       "1      10.6       2.8   4.5\n",
       "2      11.7       7.2   2.3\n",
       "3      12.2       5.6   4.7"
      ]
     },
     "execution_count": 82,
     "metadata": {},
     "output_type": "execute_result"
    }
   ],
   "source": [
    "# dataframe的查询\n",
    "s4 = df.loc[[1,2,3], [\"temp_max\",\"temp_min\",\"wind\"]]\n",
    "s4"
   ]
  },
  {
   "cell_type": "code",
   "execution_count": 83,
   "id": "a4db8be7-4be1-4eb0-b2bd-c6b60410d7ab",
   "metadata": {},
   "outputs": [
    {
     "data": {
      "text/html": [
       "<div>\n",
       "<style scoped>\n",
       "    .dataframe tbody tr th:only-of-type {\n",
       "        vertical-align: middle;\n",
       "    }\n",
       "\n",
       "    .dataframe tbody tr th {\n",
       "        vertical-align: top;\n",
       "    }\n",
       "\n",
       "    .dataframe thead th {\n",
       "        text-align: right;\n",
       "    }\n",
       "</style>\n",
       "<table border=\"1\" class=\"dataframe\">\n",
       "  <thead>\n",
       "    <tr style=\"text-align: right;\">\n",
       "      <th></th>\n",
       "      <th>date</th>\n",
       "      <th>precipitation</th>\n",
       "      <th>temp_max</th>\n",
       "      <th>temp_min</th>\n",
       "      <th>wind</th>\n",
       "      <th>weather</th>\n",
       "    </tr>\n",
       "  </thead>\n",
       "  <tbody>\n",
       "    <tr>\n",
       "      <th>140</th>\n",
       "      <td>2012-05-20</td>\n",
       "      <td>6.4</td>\n",
       "      <td>14.4</td>\n",
       "      <td>11.7</td>\n",
       "      <td>1.3</td>\n",
       "      <td>rain</td>\n",
       "    </tr>\n",
       "    <tr>\n",
       "      <th>173</th>\n",
       "      <td>2012-06-22</td>\n",
       "      <td>15.7</td>\n",
       "      <td>13.9</td>\n",
       "      <td>11.7</td>\n",
       "      <td>1.9</td>\n",
       "      <td>rain</td>\n",
       "    </tr>\n",
       "    <tr>\n",
       "      <th>482</th>\n",
       "      <td>2013-04-27</td>\n",
       "      <td>0.0</td>\n",
       "      <td>13.9</td>\n",
       "      <td>10.6</td>\n",
       "      <td>5.9</td>\n",
       "      <td>sun</td>\n",
       "    </tr>\n",
       "    <tr>\n",
       "      <th>635</th>\n",
       "      <td>2013-09-27</td>\n",
       "      <td>1.0</td>\n",
       "      <td>13.9</td>\n",
       "      <td>10.6</td>\n",
       "      <td>4.3</td>\n",
       "      <td>rain</td>\n",
       "    </tr>\n",
       "    <tr>\n",
       "      <th>637</th>\n",
       "      <td>2013-09-29</td>\n",
       "      <td>16.8</td>\n",
       "      <td>14.4</td>\n",
       "      <td>11.1</td>\n",
       "      <td>7.1</td>\n",
       "      <td>rain</td>\n",
       "    </tr>\n",
       "    <tr>\n",
       "      <th>649</th>\n",
       "      <td>2013-10-11</td>\n",
       "      <td>9.1</td>\n",
       "      <td>13.9</td>\n",
       "      <td>10.6</td>\n",
       "      <td>1.0</td>\n",
       "      <td>rain</td>\n",
       "    </tr>\n",
       "    <tr>\n",
       "      <th>669</th>\n",
       "      <td>2013-10-31</td>\n",
       "      <td>0.3</td>\n",
       "      <td>14.4</td>\n",
       "      <td>10.6</td>\n",
       "      <td>2.2</td>\n",
       "      <td>rain</td>\n",
       "    </tr>\n",
       "    <tr>\n",
       "      <th>682</th>\n",
       "      <td>2013-11-13</td>\n",
       "      <td>0.0</td>\n",
       "      <td>13.9</td>\n",
       "      <td>10.6</td>\n",
       "      <td>3.8</td>\n",
       "      <td>sun</td>\n",
       "    </tr>\n",
       "    <tr>\n",
       "      <th>1037</th>\n",
       "      <td>2014-11-03</td>\n",
       "      <td>10.9</td>\n",
       "      <td>13.9</td>\n",
       "      <td>11.1</td>\n",
       "      <td>4.8</td>\n",
       "      <td>rain</td>\n",
       "    </tr>\n",
       "    <tr>\n",
       "      <th>1038</th>\n",
       "      <td>2014-11-04</td>\n",
       "      <td>4.1</td>\n",
       "      <td>14.4</td>\n",
       "      <td>10.6</td>\n",
       "      <td>3.3</td>\n",
       "      <td>rain</td>\n",
       "    </tr>\n",
       "    <tr>\n",
       "      <th>1061</th>\n",
       "      <td>2014-11-27</td>\n",
       "      <td>3.3</td>\n",
       "      <td>14.4</td>\n",
       "      <td>11.7</td>\n",
       "      <td>6.6</td>\n",
       "      <td>rain</td>\n",
       "    </tr>\n",
       "    <tr>\n",
       "      <th>1119</th>\n",
       "      <td>2015-01-24</td>\n",
       "      <td>0.5</td>\n",
       "      <td>14.4</td>\n",
       "      <td>11.1</td>\n",
       "      <td>3.3</td>\n",
       "      <td>rain</td>\n",
       "    </tr>\n",
       "    <tr>\n",
       "      <th>1396</th>\n",
       "      <td>2015-10-28</td>\n",
       "      <td>3.3</td>\n",
       "      <td>13.9</td>\n",
       "      <td>11.1</td>\n",
       "      <td>2.8</td>\n",
       "      <td>rain</td>\n",
       "    </tr>\n",
       "  </tbody>\n",
       "</table>\n",
       "</div>"
      ],
      "text/plain": [
       "            date  precipitation  temp_max  temp_min  wind weather\n",
       "140   2012-05-20            6.4      14.4      11.7   1.3    rain\n",
       "173   2012-06-22           15.7      13.9      11.7   1.9    rain\n",
       "482   2013-04-27            0.0      13.9      10.6   5.9     sun\n",
       "635   2013-09-27            1.0      13.9      10.6   4.3    rain\n",
       "637   2013-09-29           16.8      14.4      11.1   7.1    rain\n",
       "649   2013-10-11            9.1      13.9      10.6   1.0    rain\n",
       "669   2013-10-31            0.3      14.4      10.6   2.2    rain\n",
       "682   2013-11-13            0.0      13.9      10.6   3.8     sun\n",
       "1037  2014-11-03           10.9      13.9      11.1   4.8    rain\n",
       "1038  2014-11-04            4.1      14.4      10.6   3.3    rain\n",
       "1061  2014-11-27            3.3      14.4      11.7   6.6    rain\n",
       "1119  2015-01-24            0.5      14.4      11.1   3.3    rain\n",
       "1396  2015-10-28            3.3      13.9      11.1   2.8    rain"
      ]
     },
     "execution_count": 83,
     "metadata": {},
     "output_type": "execute_result"
    }
   ],
   "source": [
    "# 条件查询\n",
    "df.loc[:, \"precipitation\":\"wind\"].astype(float)\n",
    "good = df.loc[(df[\"temp_max\"]<15) & (df[\"temp_min\"] > 10 ),  : ]\n",
    "good"
   ]
  },
  {
   "cell_type": "code",
   "execution_count": 84,
   "id": "8d681812-923a-4a28-b971-3684952d4e31",
   "metadata": {},
   "outputs": [
    {
     "data": {
      "text/html": [
       "<div>\n",
       "<style scoped>\n",
       "    .dataframe tbody tr th:only-of-type {\n",
       "        vertical-align: middle;\n",
       "    }\n",
       "\n",
       "    .dataframe tbody tr th {\n",
       "        vertical-align: top;\n",
       "    }\n",
       "\n",
       "    .dataframe thead th {\n",
       "        text-align: right;\n",
       "    }\n",
       "</style>\n",
       "<table border=\"1\" class=\"dataframe\">\n",
       "  <thead>\n",
       "    <tr style=\"text-align: right;\">\n",
       "      <th></th>\n",
       "      <th>date</th>\n",
       "      <th>precipitation</th>\n",
       "      <th>temp_max</th>\n",
       "      <th>temp_min</th>\n",
       "      <th>wind</th>\n",
       "      <th>weather</th>\n",
       "    </tr>\n",
       "  </thead>\n",
       "  <tbody>\n",
       "    <tr>\n",
       "      <th>0</th>\n",
       "      <td>2012-01-01</td>\n",
       "      <td>0.0</td>\n",
       "      <td>12.8</td>\n",
       "      <td>5.0</td>\n",
       "      <td>4.7</td>\n",
       "      <td>drizzle</td>\n",
       "    </tr>\n",
       "    <tr>\n",
       "      <th>1</th>\n",
       "      <td>2012-01-02</td>\n",
       "      <td>10.9</td>\n",
       "      <td>10.6</td>\n",
       "      <td>2.8</td>\n",
       "      <td>4.5</td>\n",
       "      <td>rain</td>\n",
       "    </tr>\n",
       "    <tr>\n",
       "      <th>2</th>\n",
       "      <td>2012-01-03</td>\n",
       "      <td>0.8</td>\n",
       "      <td>11.7</td>\n",
       "      <td>7.2</td>\n",
       "      <td>2.3</td>\n",
       "      <td>rain</td>\n",
       "    </tr>\n",
       "    <tr>\n",
       "      <th>3</th>\n",
       "      <td>2012-01-04</td>\n",
       "      <td>20.3</td>\n",
       "      <td>12.2</td>\n",
       "      <td>5.6</td>\n",
       "      <td>4.7</td>\n",
       "      <td>rain</td>\n",
       "    </tr>\n",
       "    <tr>\n",
       "      <th>4</th>\n",
       "      <td>2012-01-05</td>\n",
       "      <td>1.3</td>\n",
       "      <td>8.9</td>\n",
       "      <td>2.8</td>\n",
       "      <td>6.1</td>\n",
       "      <td>rain</td>\n",
       "    </tr>\n",
       "  </tbody>\n",
       "</table>\n",
       "</div>"
      ],
      "text/plain": [
       "         date  precipitation  temp_max  temp_min  wind  weather\n",
       "0  2012-01-01            0.0      12.8       5.0   4.7  drizzle\n",
       "1  2012-01-02           10.9      10.6       2.8   4.5     rain\n",
       "2  2012-01-03            0.8      11.7       7.2   2.3     rain\n",
       "3  2012-01-04           20.3      12.2       5.6   4.7     rain\n",
       "4  2012-01-05            1.3       8.9       2.8   6.1     rain"
      ]
     },
     "execution_count": 84,
     "metadata": {},
     "output_type": "execute_result"
    }
   ],
   "source": [
    "df.head()"
   ]
  },
  {
   "cell_type": "code",
   "execution_count": 85,
   "id": "cfc258b2-4857-4c72-bf4e-cf77c9a60515",
   "metadata": {},
   "outputs": [
    {
     "data": {
      "text/html": [
       "<div>\n",
       "<style scoped>\n",
       "    .dataframe tbody tr th:only-of-type {\n",
       "        vertical-align: middle;\n",
       "    }\n",
       "\n",
       "    .dataframe tbody tr th {\n",
       "        vertical-align: top;\n",
       "    }\n",
       "\n",
       "    .dataframe thead th {\n",
       "        text-align: right;\n",
       "    }\n",
       "</style>\n",
       "<table border=\"1\" class=\"dataframe\">\n",
       "  <thead>\n",
       "    <tr style=\"text-align: right;\">\n",
       "      <th></th>\n",
       "      <th>date</th>\n",
       "      <th>precipitation</th>\n",
       "      <th>temp_max</th>\n",
       "      <th>temp_min</th>\n",
       "      <th>wind</th>\n",
       "      <th>weather</th>\n",
       "      <th>wencha</th>\n",
       "    </tr>\n",
       "  </thead>\n",
       "  <tbody>\n",
       "    <tr>\n",
       "      <th>0</th>\n",
       "      <td>2012-01-01</td>\n",
       "      <td>0.0</td>\n",
       "      <td>12.8</td>\n",
       "      <td>5.0</td>\n",
       "      <td>4.7</td>\n",
       "      <td>drizzle</td>\n",
       "      <td>7.8</td>\n",
       "    </tr>\n",
       "    <tr>\n",
       "      <th>1</th>\n",
       "      <td>2012-01-02</td>\n",
       "      <td>10.9</td>\n",
       "      <td>10.6</td>\n",
       "      <td>2.8</td>\n",
       "      <td>4.5</td>\n",
       "      <td>rain</td>\n",
       "      <td>7.8</td>\n",
       "    </tr>\n",
       "    <tr>\n",
       "      <th>2</th>\n",
       "      <td>2012-01-03</td>\n",
       "      <td>0.8</td>\n",
       "      <td>11.7</td>\n",
       "      <td>7.2</td>\n",
       "      <td>2.3</td>\n",
       "      <td>rain</td>\n",
       "      <td>4.5</td>\n",
       "    </tr>\n",
       "    <tr>\n",
       "      <th>3</th>\n",
       "      <td>2012-01-04</td>\n",
       "      <td>20.3</td>\n",
       "      <td>12.2</td>\n",
       "      <td>5.6</td>\n",
       "      <td>4.7</td>\n",
       "      <td>rain</td>\n",
       "      <td>6.6</td>\n",
       "    </tr>\n",
       "    <tr>\n",
       "      <th>4</th>\n",
       "      <td>2012-01-05</td>\n",
       "      <td>1.3</td>\n",
       "      <td>8.9</td>\n",
       "      <td>2.8</td>\n",
       "      <td>6.1</td>\n",
       "      <td>rain</td>\n",
       "      <td>6.1</td>\n",
       "    </tr>\n",
       "  </tbody>\n",
       "</table>\n",
       "</div>"
      ],
      "text/plain": [
       "         date  precipitation  temp_max  temp_min  wind  weather  wencha\n",
       "0  2012-01-01            0.0      12.8       5.0   4.7  drizzle     7.8\n",
       "1  2012-01-02           10.9      10.6       2.8   4.5     rain     7.8\n",
       "2  2012-01-03            0.8      11.7       7.2   2.3     rain     4.5\n",
       "3  2012-01-04           20.3      12.2       5.6   4.7     rain     6.6\n",
       "4  2012-01-05            1.3       8.9       2.8   6.1     rain     6.1"
      ]
     },
     "execution_count": 85,
     "metadata": {},
     "output_type": "execute_result"
    }
   ],
   "source": [
    "df.loc[:, \"wencha\"] = df[\"temp_max\"]  - df[\"temp_min\"]\n",
    "df.head()"
   ]
  },
  {
   "cell_type": "code",
   "execution_count": 86,
   "id": "4b59bf82-796c-4246-8c5f-2ef0da23781e",
   "metadata": {},
   "outputs": [
    {
     "ename": "SyntaxError",
     "evalue": "incomplete input (3908250906.py, line 2)",
     "output_type": "error",
     "traceback": [
      "\u001b[1;36m  Cell \u001b[1;32mIn[86], line 2\u001b[1;36m\u001b[0m\n\u001b[1;33m    if x[\u001b[0m\n\u001b[1;37m         ^\u001b[0m\n\u001b[1;31mSyntaxError\u001b[0m\u001b[1;31m:\u001b[0m incomplete input\n"
     ]
    }
   ],
   "source": [
    "def type_temp(x):\n",
    "    if x[\"temp_max\"] > 20:\n",
    "        return 高温\n",
    "    if x[\"temp_min\"] < 0:\n",
    "        return 低温\n",
    "    return 正常\n",
    "\n",
    "df.loc[:, \"temp_type\"]  = \n"
   ]
  },
  {
   "cell_type": "code",
   "execution_count": null,
   "id": "cdd5aeba-4f48-4b10-a1bc-38f8dbe684bb",
   "metadata": {},
   "outputs": [],
   "source": []
  }
 ],
 "metadata": {
  "kernelspec": {
   "display_name": "Python 3 (ipykernel)",
   "language": "python",
   "name": "python3"
  },
  "language_info": {
   "codemirror_mode": {
    "name": "ipython",
    "version": 3
   },
   "file_extension": ".py",
   "mimetype": "text/x-python",
   "name": "python",
   "nbconvert_exporter": "python",
   "pygments_lexer": "ipython3",
   "version": "3.11.7"
  }
 },
 "nbformat": 4,
 "nbformat_minor": 5
}
