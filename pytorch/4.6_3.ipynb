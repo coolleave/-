{
 "cells": [
  {
   "cell_type": "code",
   "execution_count": 28,
   "id": "660e913e-8c58-425b-ab3d-161fcb56d14c",
   "metadata": {},
   "outputs": [
    {
     "data": {
      "text/plain": [
       "['tasks_0_wxm.xlsx',\n",
       " 'tasks_1_jdq.xlsx',\n",
       " 'tasks_2_wyn.xlsx',\n",
       " 'tasks_3_yc.xlsx',\n",
       " 'tasks_4_xr.xlsx']"
      ]
     },
     "execution_count": 28,
     "metadata": {},
     "output_type": "execute_result"
    }
   ],
   "source": [
    "import pandas as pd\n",
    "import os\n",
    "# 找到文件列表\n",
    "list_name = [] \n",
    "dir_path = './data/splitTask/splits/'\n",
    "for name in os.listdir(dir_path):\n",
    "    list_name.append(name)\n",
    "list_name"
   ]
  },
  {
   "cell_type": "code",
   "execution_count": 29,
   "id": "e79020ee-44b3-49f3-8ac2-854293356eef",
   "metadata": {},
   "outputs": [
    {
     "data": {
      "text/plain": [
       "[     userId  age gender  occupation zip-code username\n",
       " 0         1   24      M  technician    85711      wxm\n",
       " 1         2   53      F       other    94043      wxm\n",
       " 2         3   23      M      writer    32067      wxm\n",
       " 3         4   24      M  technician    43537      wxm\n",
       " 4         5   33      F       other    15213      wxm\n",
       " ..      ...  ...    ...         ...      ...      ...\n",
       " 184     185   53      F   librarian    97403      wxm\n",
       " 185     186   39      F   executive    00000      wxm\n",
       " 186     187   26      M    educator    16801      wxm\n",
       " 187     188   42      M     student    29440      wxm\n",
       " 188     189   32      M      artist    95014      wxm\n",
       " \n",
       " [189 rows x 6 columns],\n",
       "      userId  age gender     occupation zip-code username\n",
       " 0       190   30      M  administrator    95938      jdq\n",
       " 1       191   33      M  administrator    95161      jdq\n",
       " 2       192   42      M       educator    90840      jdq\n",
       " 3       193   29      M        student    49931      jdq\n",
       " 4       194   38      M  administrator    02154      jdq\n",
       " ..      ...  ...    ...            ...      ...      ...\n",
       " 184     374   36      M      executive    78746      jdq\n",
       " 185     375   17      M  entertainment    37777      jdq\n",
       " 186     376   28      F          other    10010      jdq\n",
       " 187     377   22      M        student    18015      jdq\n",
       " 188     378   35      M        student    02859      jdq\n",
       " \n",
       " [189 rows x 6 columns],\n",
       "      userId  age gender     occupation zip-code username\n",
       " 0       379   44      M     programmer    98117      wyn\n",
       " 1       380   32      M       engineer    55117      wyn\n",
       " 2       381   33      M         artist    94608      wyn\n",
       " 3       382   45      M       engineer    01824      wyn\n",
       " 4       383   42      M  administrator    75204      wyn\n",
       " ..      ...  ...    ...            ...      ...      ...\n",
       " 184     563   39      F      librarian    32707      wyn\n",
       " 185     564   65      M        retired    94591      wyn\n",
       " 186     565   40      M        student    55422      wyn\n",
       " 187     566   20      M        student    14627      wyn\n",
       " 188     567   24      M  entertainment    10003      wyn\n",
       " \n",
       " [189 rows x 6 columns],\n",
       "      userId  age gender occupation zip-code username\n",
       " 0       568   39      M   educator    01915       yc\n",
       " 1       569   34      M   educator    91903       yc\n",
       " 2       570   26      M   educator    14627       yc\n",
       " 3       571   34      M     artist    01945       yc\n",
       " 4       572   51      M   educator    20003       yc\n",
       " ..      ...  ...    ...        ...      ...      ...\n",
       " 184     752   60      M    retired    21201       yc\n",
       " 185     753   56      M   salesman    91206       yc\n",
       " 186     754   59      F  librarian    62901       yc\n",
       " 187     755   44      F   educator    97007       yc\n",
       " 188     756   30      F       none    90247       yc\n",
       " \n",
       " [189 rows x 6 columns],\n",
       "      userId  age gender     occupation zip-code username\n",
       " 0       757   26      M        student    55104       xr\n",
       " 1       758   27      M        student    53706       xr\n",
       " 2       759   20      F        student    68503       xr\n",
       " 3       760   35      F          other    14211       xr\n",
       " 4       761   17      M        student    97302       xr\n",
       " ..      ...  ...    ...            ...      ...      ...\n",
       " 182     939   26      F        student    33319       xr\n",
       " 183     940   32      M  administrator    02215       xr\n",
       " 184     941   20      M        student    97229       xr\n",
       " 185     942   48      F      librarian    78209       xr\n",
       " 186     943   22      M        student    77841       xr\n",
       " \n",
       " [187 rows x 6 columns]]"
      ]
     },
     "execution_count": 29,
     "metadata": {},
     "output_type": "execute_result"
    }
   ],
   "source": [
    "df_list = []\n",
    "# 分别读取各个小文件\n",
    "for name in list_name:\n",
    "    fpath = dir_path + name\n",
    "    excel_split = pd.read_excel(fpath)\n",
    "    # 提取文件来源\n",
    "    username = name.split('_')[-1].split('.')[0]\n",
    "    # 给每个df添加一列\n",
    "    excel_split[\"username\"] =  username\n",
    "    df_list.append(excel_split)\n",
    "df_list\n"
   ]
  },
  {
   "cell_type": "code",
   "execution_count": 30,
   "id": "8ea86e37-490b-403e-be67-0ed4017b31d6",
   "metadata": {},
   "outputs": [],
   "source": [
    "df_merge = pd.concat(df_list)  # 使用concat合并\n",
    "df_merge.shape\n",
    "df_merge[\"username\"].value_counts()\n",
    "# 保存excel \n",
    "df_merge.to_excel(\"./data/splitTask/merge.xlsx\",index=False)"
   ]
  },
  {
   "cell_type": "code",
   "execution_count": null,
   "id": "4fe138df-97c1-4f0f-9163-76536ed04994",
   "metadata": {},
   "outputs": [],
   "source": []
  },
  {
   "cell_type": "code",
   "execution_count": null,
   "id": "27c46fe1-ec8f-4c20-8ca1-dc693ea27dad",
   "metadata": {},
   "outputs": [],
   "source": []
  }
 ],
 "metadata": {
  "kernelspec": {
   "display_name": "Python 3 (ipykernel)",
   "language": "python",
   "name": "python3"
  },
  "language_info": {
   "codemirror_mode": {
    "name": "ipython",
    "version": 3
   },
   "file_extension": ".py",
   "mimetype": "text/x-python",
   "name": "python",
   "nbconvert_exporter": "python",
   "pygments_lexer": "ipython3",
   "version": "3.11.7"
  }
 },
 "nbformat": 4,
 "nbformat_minor": 5
}
