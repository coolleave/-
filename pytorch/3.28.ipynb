{
 "cells": [
  {
   "cell_type": "code",
   "execution_count": 1,
   "id": "49cba042-6516-495e-bdb3-2e36462830a9",
   "metadata": {},
   "outputs": [
    {
     "name": "stdout",
     "output_type": "stream",
     "text": [
      "100\n"
     ]
    }
   ],
   "source": [
    "print(100)"
   ]
  },
  {
   "cell_type": "markdown",
   "id": "50d186b1-dade-4564-9afc-80250ea26ce7",
   "metadata": {},
   "source": [
    "#编辑模式(Enter 键启动):\n",
    "·Tab:代码补全或缩进\n",
    "Shift+ Tab:提示\n",
    "。Shift-Enter:运行本单元，选中下一单元\n",
    "。Ctrl-Enter:运行本单元\n",
    "。Alt-Enter:运行本单元，在下面插入一单元"
   ]
  },
  {
   "cell_type": "markdown",
   "id": "59fe1999-8672-426e-9a58-334851c043e1",
   "metadata": {},
   "source": [
    "命令模式 (按键 Esc开启):\n",
    "。Shift+Enter:运行本单元，选中下个单元\n",
    "。Ctrl+Enter:运行本单元\n",
    "。Alt+Enter:运行本单元，在其下插入新单元\n",
    "·Y:单元转入代码试态\n",
    "M :单元转入markdown状态\n",
    "·A:在上方插入新单元\n",
    "。B:在下方插入新单元\n",
    "DD:删除选中的单元"
   ]
  },
  {
   "cell_type": "code",
   "execution_count": 10,
   "id": "0eed3652-deb6-478b-ada0-b499b733f011",
   "metadata": {},
   "outputs": [],
   "source": [
    "def is_leap(y):  # 判断闰年\n",
    "    if y%4 == 0 and y%100 != 0 or y % 400 == 0:\n",
    "        print(\"no\")\n",
    "    else:\n",
    "        print(\"no\")"
   ]
  },
  {
   "cell_type": "code",
   "execution_count": 9,
   "id": "5ba0ab00-ae3d-4004-948f-db6d98615460",
   "metadata": {},
   "outputs": [
    {
     "name": "stdout",
     "output_type": "stream",
     "text": [
      "no\n"
     ]
    }
   ],
   "source": [
    "is_leap(3)"
   ]
  },
  {
   "cell_type": "code",
   "execution_count": 27,
   "id": "0f9d584c-1ece-47a5-ab63-a20e722bd1f7",
   "metadata": {},
   "outputs": [],
   "source": [
    "def booble(lst):  # 冒泡排序\n",
    "    for i in range(len(lst)):\n",
    "        for j in range(len(lst)-1-i):\n",
    "            if lst[j] > lst[j+1]:\n",
    "                tmp = lst[j]\n",
    "                lst[j] = lst[j+1]\n",
    "                lst[j+1] = tmp\n",
    "    return lst\n",
    "            "
   ]
  },
  {
   "cell_type": "code",
   "execution_count": 32,
   "id": "b8199253-1cf5-43f9-a96f-1acdce46e49c",
   "metadata": {},
   "outputs": [
    {
     "data": {
      "text/plain": [
       "[1, 2, 3, 4, 5, 55, 88, 777]"
      ]
     },
     "execution_count": 32,
     "metadata": {},
     "output_type": "execute_result"
    }
   ],
   "source": [
    "booble([1,5,3,88,4,2,777,55])"
   ]
  },
  {
   "cell_type": "code",
   "execution_count": null,
   "id": "5688cb5a-62a5-4a25-88b0-67e3544b1cff",
   "metadata": {},
   "outputs": [],
   "source": []
  }
 ],
 "metadata": {
  "kernelspec": {
   "display_name": "Python 3 (ipykernel)",
   "language": "python",
   "name": "python3"
  },
  "language_info": {
   "codemirror_mode": {
    "name": "ipython",
    "version": 3
   },
   "file_extension": ".py",
   "mimetype": "text/x-python",
   "name": "python",
   "nbconvert_exporter": "python",
   "pygments_lexer": "ipython3",
   "version": "3.11.7"
  }
 },
 "nbformat": 4,
 "nbformat_minor": 5
}
