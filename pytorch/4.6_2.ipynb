{
 "cells": [
  {
   "cell_type": "code",
   "execution_count": 33,
   "id": "673ea919-37f5-46d1-83bd-51a594df810e",
   "metadata": {},
   "outputs": [],
   "source": [
    "import pandas as pd\n",
    "import os\n",
    "\n",
    "if not os.path.exists('./data/split'):\n",
    "    os.mkdir('./data/split')\n",
    "\n"
   ]
  },
  {
   "cell_type": "code",
   "execution_count": 8,
   "id": "fb5e1942-e621-4a85-8f3f-df7d057075ad",
   "metadata": {},
   "outputs": [],
   "source": [
    "# 对一个大表格进行拆分\n",
    "names = ['hong','mei','qiang','ming','zhang','chen']"
   ]
  },
  {
   "cell_type": "code",
   "execution_count": 12,
   "id": "546cd9d0-64b5-4abb-ab8b-783e5967402c",
   "metadata": {},
   "outputs": [
    {
     "data": {
      "text/plain": [
       "158"
      ]
     },
     "execution_count": 12,
     "metadata": {},
     "output_type": "execute_result"
    }
   ],
   "source": [
    "task_total = pd.read_excel('./data./splitTask/merge_task.xlsx')\n",
    "task_total.head()\n",
    "rows=  task_total.shape[0]  # 拿到总行数\n",
    "size = rows // len(names)  # 计算出每个人所需要处理的行数\n",
    "if rows % len(names) != 0:  # 如果除不尽就多一个\n",
    "    size += 1\n",
    "size \n"
   ]
  },
  {
   "cell_type": "code",
   "execution_count": 29,
   "id": "a7eb9ef4-e98d-4414-9fcf-8acb08323202",
   "metadata": {},
   "outputs": [],
   "source": [
    "df_subs = [] # 拆分之后的子数据集的列表\n",
    "for index,user_name in enumerate(names):\n",
    "    # 计算出开始和结束的索引\n",
    "    begin = index * size\n",
    "    end = begin + size\n",
    "    df_sub = task_total.iloc[begin:end]\n",
    "    df_subs.append([index,user_name,df_sub])\n"
   ]
  },
  {
   "cell_type": "code",
   "execution_count": 36,
   "id": "09b101c1-a0a1-434d-94f9-b3ad479aa093",
   "metadata": {},
   "outputs": [],
   "source": [
    "# 保存文件\n",
    "for index,user_name,df_sub in df_subs:\n",
    "    df_sub.to_excel(f'./data/split/{user_name}_{index}.xlsx',index= False)"
   ]
  },
  {
   "cell_type": "code",
   "execution_count": null,
   "id": "64f19852-431f-45b9-b066-350958a14b38",
   "metadata": {},
   "outputs": [],
   "source": []
  }
 ],
 "metadata": {
  "kernelspec": {
   "display_name": "Python 3 (ipykernel)",
   "language": "python",
   "name": "python3"
  },
  "language_info": {
   "codemirror_mode": {
    "name": "ipython",
    "version": 3
   },
   "file_extension": ".py",
   "mimetype": "text/x-python",
   "name": "python",
   "nbconvert_exporter": "python",
   "pygments_lexer": "ipython3",
   "version": "3.11.7"
  }
 },
 "nbformat": 4,
 "nbformat_minor": 5
}
